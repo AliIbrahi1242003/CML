{
 "cells": [
  {
   "cell_type": "code",
   "execution_count": 44,
   "id": "1dc9a5dc",
   "metadata": {},
   "outputs": [],
   "source": [
    "## main\n",
    "import numpy as np\n",
    "import pandas as pd\n",
    "import matplotlib.pyplot as plt\n",
    "import seaborn as sns\n",
    "import os\n",
    "from imblearn.over_sampling import SMOTE\n",
    "from PIL import Image\n",
    "\n",
    "## skelarn -- preprocessing\n",
    "from sklearn.model_selection import train_test_split\n",
    "from sklearn.impute import SimpleImputer\n",
    "from sklearn.preprocessing import OneHotEncoder, StandardScaler\n",
    "from sklearn.pipeline import Pipeline, FeatureUnion\n",
    "from sklearn_features.transformers import DataFrameSelector\n",
    "\n",
    "## skelarn -- models\n",
    "# from sklearn.neighbors import KNeighborsClassifier\n",
    "from sklearn.ensemble import RandomForestClassifier\n",
    "# from sklearn.linear_model import LogisticRegression\n",
    "\n",
    "## sklearn -- metrics\n",
    "from sklearn.metrics import f1_score, confusion_matrix"
   ]
  },
  {
   "cell_type": "code",
   "execution_count": 45,
   "id": "1a4d1bff",
   "metadata": {},
   "outputs": [],
   "source": [
    "## --------------------- Data Preparation ---------------------------- ##\n",
    "## Read the Dataset\n",
    "df = pd.read_csv('D:\\mlops\\CML\\dataset.csv')\n",
    "## Drop first 3 features\n",
    "df.drop(columns=['RowNumber', 'CustomerId', 'Surname'], axis=1, inplace=True)\n",
    "## Filtering using Age Feature using threshold\n",
    "df.drop(index=df[df['Age']>80].index.tolist(), axis=0, inplace=True)  \n",
    "\n",
    "## To features and target\n",
    "x = df.drop(columns=['Exited'], axis=1)\n",
    "y = df['Exited']\n",
    "## Split to train and test\n",
    "x_train, x_test, y_train, y_test = train_test_split(x, y, test_size=0.2, shuffle=True, random_state=42, stratify=y)"
   ]
  },
  {
   "cell_type": "code",
   "execution_count": 46,
   "id": "65d77249",
   "metadata": {},
   "outputs": [],
   "source": [
    "## --------------------- Data Processing ---------------------------- ##\n",
    "num_col=['CreditScore','Age','Balance','EstimatedSalary']\n",
    "cat_col=['Geography','Gender']\n",
    "ready_col=list(set(x_train.columns.tolist())-set(num_col)-set(cat_col))\n",
    "## Numerical Pipeline\n",
    "num_pipeline=Pipeline([\n",
    "    ('selector',DataFrameSelector(num_col)),\n",
    "    ('imputer',SimpleImputer(strategy='median')),\n",
    "    ('scaler',StandardScaler())\n",
    "])\n",
    "## Categorical Pipeline\n",
    "cat_pipeline=Pipeline([\n",
    "    ('selector',DataFrameSelector(cat_col)),\n",
    "    ('imputer',SimpleImputer(strategy='most_frequent')),\n",
    "    ('one',OneHotEncoder())\n",
    "])\n",
    "## Ready Pipeline\n",
    "ready_pipeline=Pipeline([\n",
    "    ('selector',DataFrameSelector(ready_col)),\n",
    "    ('imputer',SimpleImputer(strategy='most_frequent'))\n",
    "])\n",
    "## Full Pipeline\n",
    "afull_pipeline=FeatureUnion(transformer_list=[\n",
    "    ('num',num_pipeline),\n",
    "    ('cat',cat_pipeline),\n",
    "    ('ready',ready_pipeline)])\n",
    "## Fit and Transform the training data\n",
    "x_train_prepared=afull_pipeline.fit_transform(x_train)\n",
    "x_test_prepared=afull_pipeline.transform(x_test)"
   ]
  },
  {
   "cell_type": "code",
   "execution_count": 47,
   "id": "691bac1d",
   "metadata": {},
   "outputs": [],
   "source": [
    "## --------------------- Impalancing ---------------------------- ##\n",
    "\n",
    "## 1. use algorithm without taking the effect of imbalancing\n",
    "\n",
    "## 2. prepare class_weights for solving imbalance dataset\n",
    "vals_count=1-(np.bincount(y_train)/len(y_train))\n",
    "vals_count=vals_count/np.sum(vals_count) ## normalizing\n",
    "dict_wieght={}\n",
    "for i in range(0,2):\n",
    "    dict_wieght[i]=vals_count[i]\n",
    "## 3. Using SMOTE for over sampling\n",
    "over=SMOTE(sampling_strategy=0.7)\n",
    "x_train_resample, y_train_resample=over.fit_resample(x_train_prepared, y_train)"
   ]
  },
  {
   "cell_type": "code",
   "execution_count": 48,
   "id": "64ebe982",
   "metadata": {},
   "outputs": [],
   "source": [
    "## --------------------- Modeling ---------------------------- ##\n",
    "## Clear metrics.txt file at the beginning\n",
    "with open('metrics.txt', 'w') as f:\n",
    "    pass"
   ]
  },
  {
   "cell_type": "code",
   "execution_count": 49,
   "id": "ccb2d491",
   "metadata": {},
   "outputs": [],
   "source": [
    "def train_model(x_train,y_train,plot_name='',class_weight=None):\n",
    "    \"\"\" A function to train model given the required train data \"\"\"\n",
    "    global clf_name\n",
    "    clf=RandomForestClassifier(n_estimators=100, random_state=42, max_depth=10, class_weight=class_weight)\n",
    "    clf.fit(x_train,y_train)\n",
    "    y_pred_train=clf.predict(x_train)\n",
    "    y_pred_test=clf.predict(x_test_prepared)\n",
    "    f1_train=f1_score(y_train,y_pred_train)\n",
    "    f1_test=f1_score(y_test,y_pred_test)\n",
    "    clf_name=clf.__class__.__name__\n",
    "    plt.figure(figsize=(8, 6))\n",
    "    sns.heatmap(confusion_matrix(y_test, y_pred_test), annot=True, cbar=False, fmt='.2f', cmap='Blues')\n",
    "    plt.title(f'{plot_name}')\n",
    "    plt.xticks(ticks=np.arange(2) + 0.5, labels=[False, True])\n",
    "    plt.yticks(ticks=np.arange(2) + 0.5, labels=[False, True])\n",
    "\n",
    "    ## Save the plot locally\n",
    "    plt.savefig(f'{plot_name}.png', bbox_inches='tight', dpi=300)\n",
    "    plt.close()\n",
    "    ## Write scores to a file\n",
    "    with open('metrics.txt', 'a') as f:\n",
    "        f.write(f'{clf_name}{plot_name}\\n')\n",
    "        f.write(f'F1-Score Train: {f1_train*100:.2f}%\\n')\n",
    "        f.write(f'F1-Score test: {f1_test*100:.2f}%\\n')\n",
    "        f.write('------'*10+'\\n')\n",
    "    return True\n",
    "  \n"
   ]
  },
  {
   "cell_type": "code",
   "execution_count": 50,
   "id": "69f0c919",
   "metadata": {},
   "outputs": [
    {
     "data": {
      "text/plain": [
       "True"
      ]
     },
     "execution_count": 50,
     "metadata": {},
     "output_type": "execute_result"
    }
   ],
   "source": [
    "## 1. without considering the imabalancing data\n",
    "train_model(x_train=x_train_prepared, y_train=y_train, plot_name='without-imbalance', class_weight=None)\n",
    "\n",
    "## 2. with considering the imabalancing data using class_weights\n",
    "train_model(x_train=x_train_prepared, y_train=y_train, plot_name='with-class-weights', class_weight=dict_wieght)\n",
    "\n",
    "## 3. with considering the imabalancing data using oversampled data (SMOTE)\n",
    "train_model(x_train=x_train_resample, y_train=y_train_resample, plot_name=f'with-SMOTE', class_weight=None)"
   ]
  },
  {
   "cell_type": "code",
   "execution_count": 51,
   "id": "ffab6c31",
   "metadata": {},
   "outputs": [
    {
     "data": {
      "image/png": "[encoded data removed]",
      "text/plain": [
       "<Figure size 1500x500 with 3 Axes>"
      ]
     },
     "metadata": {},
     "output_type": "display_data"
    }
   ],
   "source": [
    "## Combine all conf matrix in one\n",
    "confusion_matrix_paths = [f'./without-imbalance.png', f'./with-class-weights.png', f'./with-SMOTE.png']\n",
    "\n",
    "## Load and plot each confusion matrix\n",
    "plt.figure(figsize=(15, 5))  # Adjust figure size as needed\n",
    "for i, path in enumerate(confusion_matrix_paths, 1):\n",
    "    img = Image.open(path)\n",
    "    plt.subplot(1, len(confusion_matrix_paths), i)\n",
    "    plt.imshow(img)\n",
    "    plt.axis('off')  # Disable axis for cleaner visualization"
   ]
  },
  {
   "cell_type": "code",
   "execution_count": 52,
   "id": "313cf0a5",
   "metadata": {},
   "outputs": [
    {
     "data": {
      "text/plain": [
       "<Figure size 640x480 with 0 Axes>"
      ]
     },
     "metadata": {},
     "output_type": "display_data"
    }
   ],
   "source": [
    "## Save combined plot locally\n",
    "plt.suptitle(clf_name, fontsize=16)\n",
    "plt.tight_layout(rect=[0, 0.03, 1, 0.95])\n",
    "plt.savefig(f'conf_matrix.png', bbox_inches='tight', dpi=300)\n"
   ]
  },
  {
   "cell_type": "code",
   "execution_count": 53,
   "id": "083d74b3",
   "metadata": {},
   "outputs": [],
   "source": [
    "## Delete old image files\n",
    "for path in confusion_matrix_paths:\n",
    "    os.remove(path)"
   ]
  },
  {
   "cell_type": "code",
   "execution_count": null,
   "id": "b55365bd",
   "metadata": {},
   "outputs": [],
   "source": []
  }
 ],
 "metadata": {
  "kernelspec": {
   "display_name": "base",
   "language": "python",
   "name": "python3"
  },
  "language_info": {
   "codemirror_mode": {
    "name": "ipython",
    "version": 3
   },
   "file_extension": ".py",
   "mimetype": "text/x-python",
   "name": "python",
   "nbconvert_exporter": "python",
   "pygments_lexer": "ipython3",
   "version": "3.13.5"
  }
 },
 "nbformat": 4,
 "nbformat_minor": 5
}
